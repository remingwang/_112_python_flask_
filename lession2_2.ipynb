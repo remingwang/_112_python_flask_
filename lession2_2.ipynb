{
 "cells": [
  {
   "cell_type": "code",
   "execution_count": 5,
   "metadata": {},
   "outputs": [
    {
     "name": "stdout",
     "output_type": "stream",
     "text": [
      "99\n"
     ]
    }
   ],
   "source": [
    "n = 5\n",
    "m = 10\n",
    "result = input(f\"請輸入{n} + {m} 的數值:\")\n",
    "print(result)"
   ]
  },
  {
   "cell_type": "code",
   "execution_count": 9,
   "metadata": {},
   "outputs": [
    {
     "name": "stdout",
     "output_type": "stream",
     "text": [
      "123.456+321.0+123.0 = 567.456\n"
     ]
    }
   ],
   "source": [
    "#請輸入第一個數:87.9\n",
    "#請輸入第二個數:45\n",
    "#請輸入第三個數:87.5\n",
    "\n",
    "n = float(input(\"請輸入第一個數:\"))\n",
    "m = float(input(\"請輸入第二個數:\"))\n",
    "x = float(input(\"請輸入第三個數:\"))\n",
    "\n",
    "result = n + m + x\n",
    "print(f\"{n}+{m}+{x} = {result}\")"
   ]
  },
  {
   "cell_type": "code",
   "execution_count": 10,
   "metadata": {},
   "outputs": [
    {
     "name": "stdout",
     "output_type": "stream",
     "text": [
      "總合為: 99.0\n"
     ]
    }
   ],
   "source": [
    "#請輸入第一個數:87.9\n",
    "#請輸入第二個數:45\n",
    "#請輸入第三個數:87.5\n",
    "result = 0\n",
    "n = float(input(\"請輸入第一個數:\"))\n",
    "result += n\n",
    "n = float(input(\"請輸入第二個數:\"))\n",
    "result += n\n",
    "n = float(input(\"請輸入第三個數:\"))\n",
    "result += n\n",
    "\n",
    "print(f\"總合為: {result}\")"
   ]
  }
 ],
 "metadata": {
  "kernelspec": {
   "display_name": "Python 3",
   "language": "python",
   "name": "python3"
  },
  "language_info": {
   "codemirror_mode": {
    "name": "ipython",
    "version": 3
   },
   "file_extension": ".py",
   "mimetype": "text/x-python",
   "name": "python",
   "nbconvert_exporter": "python",
   "pygments_lexer": "ipython3",
   "version": "3.10.4"
  },
  "orig_nbformat": 4
 },
 "nbformat": 4,
 "nbformat_minor": 2
}
