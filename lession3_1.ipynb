{
 "cells": [
  {
   "cell_type": "code",
   "execution_count": 1,
   "metadata": {},
   "outputs": [
    {
     "name": "stdout",
     "output_type": "stream",
     "text": [
      "<class 'int'>\n"
     ]
    }
   ],
   "source": [
    "print(type(13))"
   ]
  },
  {
   "cell_type": "code",
   "execution_count": 3,
   "metadata": {},
   "outputs": [
    {
     "name": "stdout",
     "output_type": "stream",
     "text": [
      "程式結束\n"
     ]
    }
   ],
   "source": [
    "age = 17\n",
    "\n",
    "if age >= 18: #單向選擇\n",
    "    print(\"已滿18\")\n",
    "    print(\"可以考駕照\")\n",
    "print(\"程式結束\")"
   ]
  },
  {
   "cell_type": "code",
   "execution_count": null,
   "metadata": {},
   "outputs": [],
   "source": [
    "age = 19\n",
    "\n",
    "if age >= 18: #雙向選擇\n",
    "    print(\"已滿18\")\n",
    "    print(\"可以考駕照\")\n",
    "else:\n",
    "    print(\"未滿18\")\n",
    "    print(\"不可以考駕照\")\n",
    "print(\"程式結束\")"
   ]
  },
  {
   "cell_type": "code",
   "execution_count": null,
   "metadata": {},
   "outputs": [],
   "source": [
    "score = int(input(\"請輸入分數：\"))\n",
    "\n",
    "if score >= 90:\n",
    "    grade = '優'\n",
    "elif score >= 80:\n",
    "    grade ='甲'\n",
    "elif score >= 70:\n",
    "    grade ='乙'\n",
    "elif score >= 60:\n",
    "    grade ='丙'\n",
    "else:\n",
    "    grade = '丁'\n",
    "\n",
    "print(f\"您的成績等級為:{grade}\")\n"
   ]
  },
  {
   "cell_type": "code",
   "execution_count": 18,
   "metadata": {},
   "outputs": [
    {
     "name": "stdout",
     "output_type": "stream",
     "text": [
      "您的獎金為：0\n"
     ]
    }
   ],
   "source": [
    "chinese = int(input(\"請輸入中文分數：\"))\n",
    "math = int(input(\"請輸入英文分數：\"))\n",
    "\n",
    "if chinese == 100 and math == 100:\n",
    "    bounus = 1000\n",
    "elif chinese == 100 or math == 100:\n",
    "    bounus = 500\n",
    "else:\n",
    "    bounus = 0\n",
    "\n",
    "print(f\"您的獎金為：{bounus}\")"
   ]
  }
 ],
 "metadata": {
  "kernelspec": {
   "display_name": "Python 3",
   "language": "python",
   "name": "python3"
  },
  "language_info": {
   "codemirror_mode": {
    "name": "ipython",
    "version": 3
   },
   "file_extension": ".py",
   "mimetype": "text/x-python",
   "name": "python",
   "nbconvert_exporter": "python",
   "pygments_lexer": "ipython3",
   "version": "3.9.16"
  },
  "orig_nbformat": 4
 },
 "nbformat": 4,
 "nbformat_minor": 2
}
