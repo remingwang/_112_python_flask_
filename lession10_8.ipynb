{
 "cells": [
  {
   "cell_type": "code",
   "execution_count": 4,
   "metadata": {},
   "outputs": [
    {
     "name": "stdout",
     "output_type": "stream",
     "text": [
      "連線成功\n",
      "<class 'list'>\n",
      "                        車數  可借   行政區                   時間              地址  可還  \\\n",
      "站點名稱                                                                            \n",
      "YouBike2.0_復興南路二段273號前  21   5   大安區  2023-06-09 22:28:14    復興南路二段273號西側  16   \n",
      "YouBike2.0_和平公園東側       11   6   大安區  2023-06-09 22:30:42   和平東路二段118巷33號   5   \n",
      "YouBike2.0_和平復興路口西北側     9   5   大安區  2023-06-09 22:25:14      復興南路二段236號   4   \n",
      "YouBike2.0_大安運動中心停車場    14   6   大安區  2023-06-09 22:17:46       敦南街76巷28號   8   \n",
      "YouBike2.0_和平臥龍街口       15   5   大安區  2023-06-09 22:26:14           臥龍街1號  10   \n",
      "...                     ..  ..   ...                  ...             ...  ..   \n",
      "YouBike2.0_臺大卓越研究大樓     32   5  臺大專區  2023-06-09 22:32:14       臺大水源舍區C南側  27   \n",
      "YouBike2.0_臺大水源修齊會館     18   6  臺大專區  2023-06-09 22:33:14       思源街16號之1旁  12   \n",
      "YouBike2.0_臺大管理學院二館北側   40  10  臺大專區  2023-06-09 22:33:14       管理學院二號館北側  30   \n",
      "YouBike2.0_臺大農化新館西側     10   7  臺大專區  2023-06-09 22:33:14      臺大生化科技學系西側   3   \n",
      "YouBike2.0_臺大一號館        19   5  臺大專區  2023-06-09 22:29:15  臺大植物魚類標本館一號館北側  14   \n",
      "\n",
      "                       狀態  \n",
      "站點名稱                       \n",
      "YouBike2.0_復興南路二段273號前  1  \n",
      "YouBike2.0_和平公園東側       1  \n",
      "YouBike2.0_和平復興路口西北側    1  \n",
      "YouBike2.0_大安運動中心停車場    1  \n",
      "YouBike2.0_和平臥龍街口       1  \n",
      "...                    ..  \n",
      "YouBike2.0_臺大卓越研究大樓     1  \n",
      "YouBike2.0_臺大水源修齊會館     1  \n",
      "YouBike2.0_臺大管理學院二館北側   1  \n",
      "YouBike2.0_臺大農化新館西側     1  \n",
      "YouBike2.0_臺大一號館        1  \n",
      "\n",
      "[343 rows x 7 columns]\n",
      "343\n"
     ]
    }
   ],
   "source": [
    "import requests\n",
    "import pandas as pd\n",
    "\n",
    "url = 'https://tcgbusfs.blob.core.windows.net/dotapp/youbike/v2/youbike_immediate.json'\n",
    "respones = requests.request('GET',url)\n",
    "if respones.status_code == 200:\n",
    "    print(\"連線成功\")\n",
    "    all_data = respones.json()\n",
    "    print(type(all_data))\n",
    "    \n",
    "else:\n",
    "    print(f\"連線失敗:{respones.status_code}\")\n",
    "\n",
    "dataFrame = pd.DataFrame(data=all_data,columns=['sna','tot','sbi','sarea','mday','ar','bemp','act'])\n",
    "dataFrame.columns = [\"站點名稱\",\"車數\",\"可借\",\"行政區\",\"時間\",\"地址\",\"可還\",\"狀態\"]\n",
    "dataFrame1 = dataFrame.set_index(\"站點名稱\")\n",
    "mask = (dataFrame1['可借'] <=10 )& (dataFrame1['可借'] >=5 )  \n",
    "mask_datafram = dataFrame1[mask]\n",
    "count = mask_datafram[\"車數\"].count()\n",
    "print(mask_datafram)\n",
    "print(count)"
   ]
  }
 ],
 "metadata": {
  "kernelspec": {
   "display_name": "Python 3",
   "language": "python",
   "name": "python3"
  },
  "language_info": {
   "codemirror_mode": {
    "name": "ipython",
    "version": 3
   },
   "file_extension": ".py",
   "mimetype": "text/x-python",
   "name": "python",
   "nbconvert_exporter": "python",
   "pygments_lexer": "ipython3",
   "version": "3.10.11"
  },
  "orig_nbformat": 4
 },
 "nbformat": 4,
 "nbformat_minor": 2
}
