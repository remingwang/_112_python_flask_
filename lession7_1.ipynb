{
 "cells": [
  {
   "cell_type": "code",
   "execution_count": 2,
   "metadata": {},
   "outputs": [
    {
     "name": "stdout",
     "output_type": "stream",
     "text": [
      "連線成功\n",
      "[{\"areaId\":3202,\"branchName\":\"稻香分館\",\"floorName\":\"7F\",\"areaName\":\"資訊檢索區\",\"freeCount\":3,\"totalCount\":6},{\"areaId\":3203,\"branchName\":\"稻香分館\",\"floorName\":\"8F\",\"areaName\":\"討論室\",\"freeCount\":2,\"totalCount\":2},{\"areaId\":3204,\"branchName\":\"稻香分館\",\"floorName\":\"9F\",\"areaName\":\"自修室\",\"freeCount\":43,\"totalCount\":93},{\"areaId\":3209,\"branchName\":\"總館\",\"floorName\":\"1F\",\"areaName\":\"數位e樂園\",\"freeCount\":20,\"totalCount\":36},{\"areaId\":3211,\"branchName\":\"總館\",\"floorName\":\"6F\",\"areaName\":\"自修室\",\"freeCount\":194,\"totalCount\":240},{\"areaId\":3212,\"branchName\":\"總館\",\"floorName\":\"8F\",\"areaName\":\"視聽資料閱覽室\",\"freeCount\":24,\"totalCount\":24},{\"areaId\":3213,\"branchName\":\"總館\",\"floorName\":\"8F\",\"areaName\":\"親子欣賞室\",\"freeCount\":3,\"totalCount\":3},{\"areaId\":3214,\"branchName\":\"總館\",\"floorName\":\"8F\",\"areaName\":\"團體欣賞室\",\"freeCount\":0,\"totalCount\":62},{\"areaId\":3215,\"branchName\":\"總館\",\"floorName\":\"8F\",\"areaName\":\"兒童視聽資料閱覽室\",\"freeCount\":10,\"totalCount\":10},{\"areaId\":3216,\"branchName\":\"總館\",\"floorName\":\"8F\",\"areaName\":\"VOD隨選視聽區\",\"freeCount\":6,\"totalCount\":6},{\"areaId\":3205,\"branchName\":\"廣慈分館\",\"floorName\":\"3F\",\"areaName\":\"自修室\",\"freeCount\":66,\"totalCount\":82},{\"areaId\":3206,\"branchName\":\"廣慈分館\",\"floorName\":\"3F\",\"areaName\":\"筆電區\",\"freeCount\":30,\"totalCount\":49},{\"areaId\":3217,\"branchName\":\"廣慈分館\",\"floorName\":\"3F\",\"areaName\":\"10人討論室\",\"freeCount\":1,\"totalCount\":1},{\"areaId\":3218,\"branchName\":\"廣慈分館\",\"floorName\":\"3F\",\"areaName\":\"6人討論室\",\"freeCount\":2,\"totalCount\":2},{\"areaId\":3208,\"branchName\":\"廣慈分館\",\"floorName\":\"4F\",\"areaName\":\"電腦區\",\"freeCount\":2,\"totalCount\":5},{\"areaId\":3207,\"branchName\":\"西湖分館\",\"floorName\":\"B1\",\"areaName\":\"自修區\",\"freeCount\":162,\"totalCount\":195},{\"areaId\":3200,\"branchName\":\"西湖分館\",\"floorName\":\"3F\",\"areaName\":\"個人視聽區\",\"freeCount\":8,\"totalCount\":8},{\"areaId\":3201,\"branchName\":\"西湖分館\",\"floorName\":\"3F\",\"areaName\":\"團體視聽小間\",\"freeCount\":5,\"totalCount\":5}]\n"
     ]
    }
   ],
   "source": [
    "import requests\n",
    "url = 'https://seat.tpml.edu.tw/sm/service/getAllArea'\n",
    "respones = requests.request('GET',url)\n",
    "if respones.status_code == 200:\n",
    "    print(\"連線成功\")\n",
    "    print(respones.text)\n",
    "else:\n",
    "    print(f\"連線失敗:{respones.status_code}\")\n"
   ]
  }
 ],
 "metadata": {
  "kernelspec": {
   "display_name": "Python 3",
   "language": "python",
   "name": "python3"
  },
  "language_info": {
   "codemirror_mode": {
    "name": "ipython",
    "version": 3
   },
   "file_extension": ".py",
   "mimetype": "text/x-python",
   "name": "python",
   "nbconvert_exporter": "python",
   "pygments_lexer": "ipython3",
   "version": "3.9.16"
  },
  "orig_nbformat": 4
 },
 "nbformat": 4,
 "nbformat_minor": 2
}
